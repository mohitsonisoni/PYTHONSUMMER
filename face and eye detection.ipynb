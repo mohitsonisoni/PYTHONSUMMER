import cv2
face_cascade=cv2.CascadeClassifier('frontalface.xml')
eye_cascad=cv2.CascadeClassifier('eye.xml')
cap=cv2.VideoCapture(0)
while True:
        img=cap.read()[1]
        gray=cv2.cvtColor(img,cv2.COLOR_BGR2GRAY)
        face=face_cascade.detectMultiScale(gray,1.15,5)
        for(x,y,w,h) in face:
            img=cv2.rectangle(img,(x,y),(x+w,y+h),(0,255,255),2)
            roi_gray=gray[y:y+h,x:x+w]
            roi_color=img[y:y+h,x:x+w]
            eye=eye_cascad.detectMultiScale(roi_gray)
            for (ex,ey,ew,eh) in eye:
                cv2.rectangle(roi_color,(ex,ey),(ex+ew,ey+eh),(0,255,255),2)
        cv2.imshow('face',img)
        
cv2.destroyAllWindows()
cap.release()
